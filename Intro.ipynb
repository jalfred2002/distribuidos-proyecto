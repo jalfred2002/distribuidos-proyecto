{
  "cells": [
    {
      "cell_type": "markdown",
      "id": "a35eeb9f-df70-4ab1-a243-2d2025888eb0",
      "metadata": {},
      "source": [
        "#Informe sobre el Código y Protocolos de Transporte y Aplicación\n",
        "\n",
        "#Introducción\n",
        "En este informe, analizaré el código proporcionado y explicaré cómo se establece la comunicación entre dos servidores utilizando protocolos de transporte y de aplicación. El código en cuestión crea una interfaz gráfica (GUI) utilizando la biblioteca tkinter y permite al usuario ingresar datos relacionados con un vehículo. Estos datos se envían al servidor principal para su procesamiento.\n",
        "\n",
        "#Descripción del Código\n",
        "El código consta de los siguientes componentes:\n",
        "\n",
        "#Interfaz Gráfica (GUI):\n",
        "Utiliza tkinter para crear una ventana con campos de entrada para el nombre del vehículo, velocidad, promedio de retraso y rumbo inicial.\n",
        "El usuario ingresa estos datos en la GUI.\n",
        "\n",
        "#Funciones Relevantes:\n",
        "validar():\n",
        "Esta función verifica si todos los campos (nombre del vehículo, velocidad, promedio de retraso y rumbo inicial) están completos antes de enviar los datos al servidor.\n",
        "Si algún campo está vacío, la función devuelve False, lo que indica que los datos no están listos para ser enviados.\n",
        "llenar():\n",
        "La función llenar() simula un proceso de carga o progreso.\n",
        "En el código, se utiliza para llenar una barra de progreso visualmente mientras se espera que ocurra algún evento (como el envío de datos al servidor).\n",
        "En términos prácticos, esto podría representar una animación o una espera simulada mientras se procesan los datos.\n",
        "limpiar():\n",
        "La función limpiar() se encarga de borrar los campos de entrada después de que los datos se han enviado al servidor.\n",
        "Esto garantiza que los campos estén vacíos y listos para recibir nuevos datos.\n",
        "enviar_datos():\n",
        "La función enviar_datos() es crucial para el proceso de comunicación con el servidor principal.\n",
        "Después de verificar que los campos están completos (mediante validar()), esta función envía los datos ingresados al servidor.\n",
        "El servidor principal procesará estos datos según su lógica específica.\n",
        "\n",
        "#Protocolos Utilizados\n",
        "Protocolo de Transporte: TCP (Transmission Control Protocol):\n",
        "El código no especifica explícitamente el protocolo de transporte, pero por defecto utiliza TCP.\n",
        "TCP garantiza la entrega confiable de datos, controla la secuencia y el flujo de información, y asegura que los datos lleguen en el orden correcto.\n",
        "Es como enviar una carta certificada: sabemos que llegará sin errores.\n",
        "\n",
        "#Protocolo de Aplicación:\n",
        "Aunque no se menciona en el código, estamos utilizando una interfaz gráfica creada con tkinter.\n",
        "tkinter no está directamente relacionado con un protocolo específico, pero se utiliza comúnmente para crear aplicaciones de escritorio en Python.\n",
        "La GUI actúa como la capa de aplicación, permitiendo al usuario interactuar con el programa y enviar datos al servidor.\n",
        "\n",
        "#Conclusión\n",
        "En resumen, el código establece una conexión entre el cliente (interfaz gráfica) y el servidor principal utilizando TCP. Los datos ingresados por el usuario se envían al servidor, donde se procesan según sea necesario. La GUI creada con tkinter es la interfaz de aplicación que facilita esta comunicación.\n",
        "\n"
      ]
    }
  ],
  "metadata": {
    "kernelspec": {
      "display_name": "Pyolite",
      "language": "python",
      "name": "python"
    },
    "language_info": {
      "codemirror_mode": {
        "name": "python",
        "version": 3
      },
      "file_extension": ".py",
      "mimetype": "text/x-python",
      "name": "python",
      "nbconvert_exporter": "python",
      "pygments_lexer": "ipython3",
      "version": "3.8"
    }
  },
  "nbformat": 4,
  "nbformat_minor": 5
}
